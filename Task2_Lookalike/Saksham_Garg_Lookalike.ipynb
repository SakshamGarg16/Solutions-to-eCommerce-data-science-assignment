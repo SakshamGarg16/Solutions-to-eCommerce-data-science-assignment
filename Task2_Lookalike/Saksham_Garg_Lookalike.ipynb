{
 "cells": [
  {
   "cell_type": "code",
   "execution_count": 14,
   "metadata": {},
   "outputs": [],
   "source": [
    "import pandas as pd\n",
    "from sklearn.metrics.pairwise import cosine_similarity\n",
    "from sklearn.preprocessing import StandardScaler"
   ]
  },
  {
   "cell_type": "code",
   "execution_count": 15,
   "metadata": {},
   "outputs": [],
   "source": [
    "# Load datasets\n",
    "customers_df = pd.read_csv(r\"./dataset/Customers.csv\")\n",
    "products_df = pd.read_csv(r\"./dataset/Products.csv\")\n",
    "transactions_df = pd.read_csv(r\"./dataset/Transactions.csv\")"
   ]
  },
  {
   "cell_type": "code",
   "execution_count": 16,
   "metadata": {},
   "outputs": [],
   "source": [
    "# Convert dates to datetime\n",
    "customers_df['SignupDate'] = pd.to_datetime(customers_df['SignupDate'])\n",
    "transactions_df['TransactionDate'] = pd.to_datetime(transactions_df['TransactionDate'])"
   ]
  },
  {
   "cell_type": "code",
   "execution_count": 17,
   "metadata": {},
   "outputs": [],
   "source": [
    "# Feature Engineering\n",
    "# Total spend per customer\n",
    "customer_spend = transactions_df.groupby('CustomerID')['TotalValue'].sum()"
   ]
  },
  {
   "cell_type": "code",
   "execution_count": 18,
   "metadata": {},
   "outputs": [],
   "source": [
    "# Total transactions per customer\n",
    "customer_transactions = transactions_df.groupby('CustomerID')['TransactionID'].count()"
   ]
  },
  {
   "cell_type": "code",
   "execution_count": 19,
   "metadata": {},
   "outputs": [],
   "source": [
    "# Average transaction value\n",
    "avg_transaction_value = customer_spend / customer_transactions\n",
    "\n",
    "# Most purchased product categories\n",
    "transactions_products = transactions_df.merge(products_df, on='ProductID')\n",
    "category_pref = transactions_products.groupby(['CustomerID', 'Category'])['Quantity'].sum().unstack().fillna(0)"
   ]
  },
  {
   "cell_type": "code",
   "execution_count": 20,
   "metadata": {},
   "outputs": [],
   "source": [
    "# Combine features into a single DataFrame\n",
    "features = pd.DataFrame({\n",
    "    'TotalSpend': customer_spend,\n",
    "    'TotalTransactions': customer_transactions,\n",
    "    'AvgTransactionValue': avg_transaction_value\n",
    "}).fillna(0)"
   ]
  },
  {
   "cell_type": "code",
   "execution_count": 21,
   "metadata": {},
   "outputs": [],
   "source": [
    "features = features.join(category_pref)\n",
    "\n",
    "# Add customer profile features (e.g., Region)\n",
    "region_encoded = pd.get_dummies(customers_df.set_index('CustomerID')['Region'], prefix='Region')\n",
    "features = features.join(region_encoded)"
   ]
  },
  {
   "cell_type": "code",
   "execution_count": 22,
   "metadata": {},
   "outputs": [],
   "source": [
    "# Normalize features\n",
    "scaler = StandardScaler()\n",
    "features_normalized = pd.DataFrame(scaler.fit_transform(features), index=features.index, columns=features.columns)\n",
    "\n",
    "# Compute similarity matrix\n",
    "similarity_matrix = cosine_similarity(features_normalized)\n",
    "\n",
    "# Create a DataFrame for similarity scores\n",
    "similarity_df = pd.DataFrame(similarity_matrix, index=features.index, columns=features.index)"
   ]
  },
  {
   "cell_type": "code",
   "execution_count": 23,
   "metadata": {},
   "outputs": [],
   "source": [
    "# Generate Lookalike Recommendations\n",
    "lookalike_map = {}\n",
    "for cust_id in customers_df['CustomerID'][:20]:\n",
    "    similar_customers = similarity_df[cust_id].sort_values(ascending=False).iloc[1:4]\n",
    "    lookalike_map[cust_id] = list(zip(similar_customers.index, similar_customers.values))\n"
   ]
  },
  {
   "cell_type": "code",
   "execution_count": 24,
   "metadata": {},
   "outputs": [],
   "source": [
    "# Save to Lookalike.csv\n",
    "lookalike_df = pd.DataFrame({\n",
    "    'CustomerID': list(lookalike_map.keys()),\n",
    "    'Lookalikes': [str(lookalike_map[cust_id]) for cust_id in lookalike_map.keys()]\n",
    "})\n",
    "lookalike_df.to_csv('Saksham_Garg_Lookalike.csv', index=False)"
   ]
  }
 ],
 "metadata": {
  "kernelspec": {
   "display_name": "Python 3",
   "language": "python",
   "name": "python3"
  },
  "language_info": {
   "codemirror_mode": {
    "name": "ipython",
    "version": 3
   },
   "file_extension": ".py",
   "mimetype": "text/x-python",
   "name": "python",
   "nbconvert_exporter": "python",
   "pygments_lexer": "ipython3",
   "version": "3.11.0"
  }
 },
 "nbformat": 4,
 "nbformat_minor": 2
}

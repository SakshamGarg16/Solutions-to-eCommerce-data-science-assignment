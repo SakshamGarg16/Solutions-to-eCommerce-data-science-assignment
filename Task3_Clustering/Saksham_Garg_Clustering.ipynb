{
 "cells": [
  {
   "cell_type": "code",
   "execution_count": 9,
   "metadata": {},
   "outputs": [],
   "source": [
    "import pandas as pd\n",
    "from sklearn.preprocessing import StandardScaler\n",
    "from sklearn.cluster import KMeans\n",
    "from sklearn.metrics import davies_bouldin_score\n",
    "import matplotlib.pyplot as plt"
   ]
  },
  {
   "cell_type": "code",
   "execution_count": 2,
   "metadata": {},
   "outputs": [],
   "source": [
    "# Load datasets\n",
    "customers_data = pd.read_csv(r\"./dataset/Customers.csv\")\n",
    "products_data = pd.read_csv(r\"./dataset/Products.csv\")\n",
    "transactions_data = pd.read_csv(r\"./dataset/Transactions.csv\")"
   ]
  },
  {
   "cell_type": "code",
   "execution_count": 3,
   "metadata": {},
   "outputs": [
    {
     "name": "stdout",
     "output_type": "stream",
     "text": [
      "<class 'pandas.core.frame.DataFrame'>\n",
      "RangeIndex: 200 entries, 0 to 199\n",
      "Data columns (total 4 columns):\n",
      " #   Column        Non-Null Count  Dtype \n",
      "---  ------        --------------  ----- \n",
      " 0   CustomerID    200 non-null    object\n",
      " 1   CustomerName  200 non-null    object\n",
      " 2   Region        200 non-null    object\n",
      " 3   SignupDate    200 non-null    object\n",
      "dtypes: object(4)\n",
      "memory usage: 6.4+ KB\n",
      "<class 'pandas.core.frame.DataFrame'>\n",
      "RangeIndex: 100 entries, 0 to 99\n",
      "Data columns (total 4 columns):\n",
      " #   Column       Non-Null Count  Dtype  \n",
      "---  ------       --------------  -----  \n",
      " 0   ProductID    100 non-null    object \n",
      " 1   ProductName  100 non-null    object \n",
      " 2   Category     100 non-null    object \n",
      " 3   Price        100 non-null    float64\n",
      "dtypes: float64(1), object(3)\n",
      "memory usage: 3.2+ KB\n",
      "<class 'pandas.core.frame.DataFrame'>\n",
      "RangeIndex: 1000 entries, 0 to 999\n",
      "Data columns (total 7 columns):\n",
      " #   Column           Non-Null Count  Dtype  \n",
      "---  ------           --------------  -----  \n",
      " 0   TransactionID    1000 non-null   object \n",
      " 1   CustomerID       1000 non-null   object \n",
      " 2   ProductID        1000 non-null   object \n",
      " 3   TransactionDate  1000 non-null   object \n",
      " 4   Quantity         1000 non-null   int64  \n",
      " 5   TotalValue       1000 non-null   float64\n",
      " 6   Price            1000 non-null   float64\n",
      "dtypes: float64(2), int64(1), object(4)\n",
      "memory usage: 54.8+ KB\n"
     ]
    },
    {
     "data": {
      "text/plain": [
       "((None,\n",
       "    CustomerID        CustomerName         Region  SignupDate\n",
       "  0      C0001    Lawrence Carroll  South America  2022-07-10\n",
       "  1      C0002      Elizabeth Lutz           Asia  2022-02-13\n",
       "  2      C0003      Michael Rivera  South America  2024-03-07\n",
       "  3      C0004  Kathleen Rodriguez  South America  2022-10-09\n",
       "  4      C0005         Laura Weber           Asia  2022-08-15),\n",
       " (None,\n",
       "    ProductID              ProductName     Category   Price\n",
       "  0      P001     ActiveWear Biography        Books  169.30\n",
       "  1      P002    ActiveWear Smartwatch  Electronics  346.30\n",
       "  2      P003  ComfortLiving Biography        Books   44.12\n",
       "  3      P004            BookWorld Rug   Home Decor   95.69\n",
       "  4      P005          TechPro T-Shirt     Clothing  429.31),\n",
       " (None,\n",
       "    TransactionID CustomerID ProductID      TransactionDate  Quantity  \\\n",
       "  0        T00001      C0199      P067  2024-08-25 12:38:23         1   \n",
       "  1        T00112      C0146      P067  2024-05-27 22:23:54         1   \n",
       "  2        T00166      C0127      P067   2024-04-25 7:38:55         1   \n",
       "  3        T00272      C0087      P067  2024-03-26 22:55:37         2   \n",
       "  4        T00363      C0070      P067  2024-03-21 15:10:10         3   \n",
       "  \n",
       "     TotalValue   Price  \n",
       "  0      300.68  300.68  \n",
       "  1      300.68  300.68  \n",
       "  2      300.68  300.68  \n",
       "  3      601.36  300.68  \n",
       "  4      902.04  300.68  ))"
      ]
     },
     "execution_count": 3,
     "metadata": {},
     "output_type": "execute_result"
    }
   ],
   "source": [
    "# Display basic info about the datasets to understand their structure\n",
    "customers_info = customers_data.info(), customers_data.head()\n",
    "products_info = products_data.info(), products_data.head()\n",
    "transactions_info = transactions_data.info(), transactions_data.head()\n",
    "\n",
    "customers_info, products_info, transactions_info"
   ]
  },
  {
   "cell_type": "code",
   "execution_count": 4,
   "metadata": {},
   "outputs": [],
   "source": [
    "# Aggregating transaction data to derive customer-level metrics\n",
    "customer_transaction_summary = transactions_data.groupby(\"CustomerID\").agg(\n",
    "    TotalTransactions=(\"TransactionID\", \"count\"),  # Total number of transactions\n",
    "    TotalQuantity=(\"Quantity\", \"sum\"),            # Total quantity purchased\n",
    "    TotalSpent=(\"TotalValue\", \"sum\"),             # Total money spent\n",
    "    AverageOrderValue=(\"TotalValue\", \"mean\"),     # Average transaction value\n",
    ").reset_index()"
   ]
  },
  {
   "cell_type": "code",
   "execution_count": 5,
   "metadata": {},
   "outputs": [],
   "source": [
    "# Merge with customer profile data\n",
    "customer_data = pd.merge(customers_data, customer_transaction_summary, on=\"CustomerID\", how=\"left\")\n",
    "\n",
    "# Fill missing values for customers with no transactions\n",
    "customer_data.fillna({\n",
    "    \"TotalTransactions\": 0,\n",
    "    \"TotalQuantity\": 0,\n",
    "    \"TotalSpent\": 0.0,\n",
    "    \"AverageOrderValue\": 0.0\n",
    "}, inplace=True)"
   ]
  },
  {
   "cell_type": "code",
   "execution_count": 6,
   "metadata": {},
   "outputs": [
    {
     "data": {
      "text/html": [
       "<div>\n",
       "<style scoped>\n",
       "    .dataframe tbody tr th:only-of-type {\n",
       "        vertical-align: middle;\n",
       "    }\n",
       "\n",
       "    .dataframe tbody tr th {\n",
       "        vertical-align: top;\n",
       "    }\n",
       "\n",
       "    .dataframe thead th {\n",
       "        text-align: right;\n",
       "    }\n",
       "</style>\n",
       "<table border=\"1\" class=\"dataframe\">\n",
       "  <thead>\n",
       "    <tr style=\"text-align: right;\">\n",
       "      <th></th>\n",
       "      <th>CustomerID</th>\n",
       "      <th>CustomerName</th>\n",
       "      <th>Region</th>\n",
       "      <th>SignupDate</th>\n",
       "      <th>TotalTransactions</th>\n",
       "      <th>TotalQuantity</th>\n",
       "      <th>TotalSpent</th>\n",
       "      <th>AverageOrderValue</th>\n",
       "    </tr>\n",
       "  </thead>\n",
       "  <tbody>\n",
       "    <tr>\n",
       "      <th>0</th>\n",
       "      <td>C0001</td>\n",
       "      <td>Lawrence Carroll</td>\n",
       "      <td>South America</td>\n",
       "      <td>2022-07-10</td>\n",
       "      <td>5.0</td>\n",
       "      <td>12.0</td>\n",
       "      <td>3354.52</td>\n",
       "      <td>670.904</td>\n",
       "    </tr>\n",
       "    <tr>\n",
       "      <th>1</th>\n",
       "      <td>C0002</td>\n",
       "      <td>Elizabeth Lutz</td>\n",
       "      <td>Asia</td>\n",
       "      <td>2022-02-13</td>\n",
       "      <td>4.0</td>\n",
       "      <td>10.0</td>\n",
       "      <td>1862.74</td>\n",
       "      <td>465.685</td>\n",
       "    </tr>\n",
       "    <tr>\n",
       "      <th>2</th>\n",
       "      <td>C0003</td>\n",
       "      <td>Michael Rivera</td>\n",
       "      <td>South America</td>\n",
       "      <td>2024-03-07</td>\n",
       "      <td>4.0</td>\n",
       "      <td>14.0</td>\n",
       "      <td>2725.38</td>\n",
       "      <td>681.345</td>\n",
       "    </tr>\n",
       "    <tr>\n",
       "      <th>3</th>\n",
       "      <td>C0004</td>\n",
       "      <td>Kathleen Rodriguez</td>\n",
       "      <td>South America</td>\n",
       "      <td>2022-10-09</td>\n",
       "      <td>8.0</td>\n",
       "      <td>23.0</td>\n",
       "      <td>5354.88</td>\n",
       "      <td>669.360</td>\n",
       "    </tr>\n",
       "    <tr>\n",
       "      <th>4</th>\n",
       "      <td>C0005</td>\n",
       "      <td>Laura Weber</td>\n",
       "      <td>Asia</td>\n",
       "      <td>2022-08-15</td>\n",
       "      <td>3.0</td>\n",
       "      <td>7.0</td>\n",
       "      <td>2034.24</td>\n",
       "      <td>678.080</td>\n",
       "    </tr>\n",
       "  </tbody>\n",
       "</table>\n",
       "</div>"
      ],
      "text/plain": [
       "  CustomerID        CustomerName         Region  SignupDate  \\\n",
       "0      C0001    Lawrence Carroll  South America  2022-07-10   \n",
       "1      C0002      Elizabeth Lutz           Asia  2022-02-13   \n",
       "2      C0003      Michael Rivera  South America  2024-03-07   \n",
       "3      C0004  Kathleen Rodriguez  South America  2022-10-09   \n",
       "4      C0005         Laura Weber           Asia  2022-08-15   \n",
       "\n",
       "   TotalTransactions  TotalQuantity  TotalSpent  AverageOrderValue  \n",
       "0                5.0           12.0     3354.52            670.904  \n",
       "1                4.0           10.0     1862.74            465.685  \n",
       "2                4.0           14.0     2725.38            681.345  \n",
       "3                8.0           23.0     5354.88            669.360  \n",
       "4                3.0            7.0     2034.24            678.080  "
      ]
     },
     "execution_count": 6,
     "metadata": {},
     "output_type": "execute_result"
    }
   ],
   "source": [
    "customer_data.head()"
   ]
  },
  {
   "cell_type": "code",
   "execution_count": 8,
   "metadata": {},
   "outputs": [
    {
     "data": {
      "text/html": [
       "<div>\n",
       "<style scoped>\n",
       "    .dataframe tbody tr th:only-of-type {\n",
       "        vertical-align: middle;\n",
       "    }\n",
       "\n",
       "    .dataframe tbody tr th {\n",
       "        vertical-align: top;\n",
       "    }\n",
       "\n",
       "    .dataframe thead th {\n",
       "        text-align: right;\n",
       "    }\n",
       "</style>\n",
       "<table border=\"1\" class=\"dataframe\">\n",
       "  <thead>\n",
       "    <tr style=\"text-align: right;\">\n",
       "      <th></th>\n",
       "      <th>TotalTransactions</th>\n",
       "      <th>TotalQuantity</th>\n",
       "      <th>TotalSpent</th>\n",
       "      <th>AverageOrderValue</th>\n",
       "    </tr>\n",
       "  </thead>\n",
       "  <tbody>\n",
       "    <tr>\n",
       "      <th>0</th>\n",
       "      <td>0.000000</td>\n",
       "      <td>-0.110735</td>\n",
       "      <td>-0.051884</td>\n",
       "      <td>-0.054781</td>\n",
       "    </tr>\n",
       "    <tr>\n",
       "      <th>1</th>\n",
       "      <td>-0.451294</td>\n",
       "      <td>-0.434049</td>\n",
       "      <td>-0.862714</td>\n",
       "      <td>-0.903985</td>\n",
       "    </tr>\n",
       "    <tr>\n",
       "      <th>2</th>\n",
       "      <td>-0.451294</td>\n",
       "      <td>0.212579</td>\n",
       "      <td>-0.393842</td>\n",
       "      <td>-0.011575</td>\n",
       "    </tr>\n",
       "    <tr>\n",
       "      <th>3</th>\n",
       "      <td>1.353881</td>\n",
       "      <td>1.667493</td>\n",
       "      <td>1.035375</td>\n",
       "      <td>-0.061170</td>\n",
       "    </tr>\n",
       "    <tr>\n",
       "      <th>4</th>\n",
       "      <td>-0.902587</td>\n",
       "      <td>-0.919021</td>\n",
       "      <td>-0.769499</td>\n",
       "      <td>-0.025086</td>\n",
       "    </tr>\n",
       "  </tbody>\n",
       "</table>\n",
       "</div>"
      ],
      "text/plain": [
       "   TotalTransactions  TotalQuantity  TotalSpent  AverageOrderValue\n",
       "0           0.000000      -0.110735   -0.051884          -0.054781\n",
       "1          -0.451294      -0.434049   -0.862714          -0.903985\n",
       "2          -0.451294       0.212579   -0.393842          -0.011575\n",
       "3           1.353881       1.667493    1.035375          -0.061170\n",
       "4          -0.902587      -0.919021   -0.769499          -0.025086"
      ]
     },
     "execution_count": 8,
     "metadata": {},
     "output_type": "execute_result"
    }
   ],
   "source": [
    "# Select relevant features for clustering\n",
    "features = [\"TotalTransactions\", \"TotalQuantity\", \"TotalSpent\", \"AverageOrderValue\"]\n",
    "\n",
    "# Normalize the features\n",
    "scaler = StandardScaler()\n",
    "customer_data_scaled = customer_data.copy()\n",
    "customer_data_scaled[features] = scaler.fit_transform(customer_data[features])\n",
    "\n",
    "# Preview the normalized dataset\n",
    "customer_data_scaled[features].head()"
   ]
  },
  {
   "cell_type": "code",
   "execution_count": 10,
   "metadata": {},
   "outputs": [],
   "source": [
    "# Apply K-Means clustering\n",
    "num_clusters = 4  # Initial guess for clusters; can experiment with other numbers\n",
    "kmeans = KMeans(n_clusters=num_clusters, random_state=42)\n",
    "customer_data_scaled[\"Cluster\"] = kmeans.fit_predict(customer_data_scaled[features])"
   ]
  },
  {
   "cell_type": "code",
   "execution_count": 11,
   "metadata": {},
   "outputs": [],
   "source": [
    "# Evaluate clustering using Davies-Bouldin Index\n",
    "db_index = davies_bouldin_score(customer_data_scaled[features], customer_data_scaled[\"Cluster\"])\n",
    "\n",
    "# Visualize clusters using a 2D PCA reduction\n",
    "from sklearn.decomposition import PCA"
   ]
  },
  {
   "cell_type": "code",
   "execution_count": 12,
   "metadata": {},
   "outputs": [],
   "source": [
    "pca = PCA(n_components=2)\n",
    "reduced_data = pca.fit_transform(customer_data_scaled[features])\n",
    "customer_data_scaled[\"PCA1\"] = reduced_data[:, 0]\n",
    "customer_data_scaled[\"PCA2\"] = reduced_data[:, 1]"
   ]
  },
  {
   "cell_type": "code",
   "execution_count": 13,
   "metadata": {},
   "outputs": [
    {
     "data": {
      "image/png": "[encoded data removed]",
      "text/plain": [
       "<Figure size 1000x600 with 1 Axes>"
      ]
     },
     "metadata": {},
     "output_type": "display_data"
    },
    {
     "data": {
      "text/plain": [
       "0.9322574305812845"
      ]
     },
     "execution_count": 13,
     "metadata": {},
     "output_type": "execute_result"
    }
   ],
   "source": [
    "# Plot the clusters\n",
    "plt.figure(figsize=(10, 6))\n",
    "for cluster in range(num_clusters):\n",
    "    cluster_data = customer_data_scaled[customer_data_scaled[\"Cluster\"] == cluster]\n",
    "    plt.scatter(cluster_data[\"PCA1\"], cluster_data[\"PCA2\"], label=f\"Cluster {cluster}\")\n",
    "plt.title(\"Customer Segmentation Clusters (PCA Reduced)\")\n",
    "plt.xlabel(\"PCA1\")\n",
    "plt.ylabel(\"PCA2\")\n",
    "plt.legend()\n",
    "plt.show()\n",
    "\n",
    "db_index"
   ]
  }
 ],
 "metadata": {
  "kernelspec": {
   "display_name": "Python 3",
   "language": "python",
   "name": "python3"
  },
  "language_info": {
   "codemirror_mode": {
    "name": "ipython",
    "version": 3
   },
   "file_extension": ".py",
   "mimetype": "text/x-python",
   "name": "python",
   "nbconvert_exporter": "python",
   "pygments_lexer": "ipython3",
   "version": "3.11.0"
  }
 },
 "nbformat": 4,
 "nbformat_minor": 2
}
